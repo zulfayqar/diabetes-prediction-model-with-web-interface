{
  "nbformat": 4,
  "nbformat_minor": 0,
  "metadata": {
    "colab": {
      "provenance": []
    },
    "kernelspec": {
      "name": "python3",
      "display_name": "Python 3"
    },
    "language_info": {
      "name": "python"
    }
  },
  "cells": [
    {
      "cell_type": "code",
      "source": [
        "# Install streamlit for creating the web application\n",
        "# Install pyngrok to create a public URL for the Streamlit app in Colab\n",
        "!pip install streamlit pyngrok -q"
      ],
      "metadata": {
        "id": "xHPWb3FsO_Z4"
      },
      "execution_count": 24,
      "outputs": []
    },
    {
      "cell_type": "code",
      "source": [
        "# Create train_model.py with corrected content\n",
        "%%writefile train_model.py\n",
        "import pandas as pd\n",
        "import matplotlib.pyplot as plt\n",
        "import seaborn as sns\n",
        "from sklearn.linear_model import LogisticRegression\n",
        "from sklearn.model_selection import train_test_split\n",
        "from sklearn.metrics import accuracy_score, classification_report\n",
        "import joblib\n",
        "import os\n",
        "\n",
        "# Load the diabetes dataset\n",
        "df = pd.read_csv('https://raw.githubusercontent.com/jbrownlee/Datasets/master/pima-indians-diabetes.data.csv',\n",
        "                 names=['Pregnancies', 'Glucose', 'BloodPressure', 'SkinThickness', 'Insulin',\n",
        "                        'BMI', 'DiabetesPedigreeFunction', 'Age', 'Outcome'])\n",
        "print(\"Dataset loaded successfully.\")\n",
        "print(\"Dataset Shape:\", df.shape)\n",
        "print(\"\\nFirst 5 rows:\\n\", df.head())\n",
        "print(\"\\nSummary Stats:\\n\", df.describe())\n",
        "print(\"\\nClass Distribution:\\n\", df['Outcome'].value_counts())\n",
        "\n",
        "# Additional EDA: Feature Distributions\n",
        "plt.figure(figsize=(15, 10))\n",
        "for i, column in enumerate(df.columns[:-1], 1):\n",
        "    plt.subplot(3, 3, i)\n",
        "    sns.histplot(df[column], kde=True)\n",
        "    plt.title(f'Distribution of {column}')\n",
        "plt.tight_layout()\n",
        "plt.savefig('feature_distributions.png')\n",
        "plt.close()\n",
        "\n",
        "# Additional EDA: Correlation Matrix\n",
        "plt.figure(figsize=(10, 8))\n",
        "sns.heatmap(df.corr(), annot=True, cmap='coolwarm', fmt='.2f')\n",
        "plt.title('Correlation Matrix')\n",
        "plt.savefig('correlation_matrix.png')\n",
        "plt.close()\n",
        "\n",
        "# Additional EDA: Class Distribution Bar Plot\n",
        "plt.figure(figsize=(6, 4))\n",
        "sns.countplot(x='Outcome', data=df)\n",
        "plt.title('Class Distribution (0: Non-Diabetic, 1: Diabetic)')\n",
        "plt.savefig('class_distribution.png')\n",
        "plt.close()\n",
        "\n",
        "# Split data into features and target\n",
        "X = df.drop('Outcome', axis=1)\n",
        "y = df['Outcome']\n",
        "\n",
        "# Split into training and test sets\n",
        "X_train, X_test, y_train, y_test = train_test_split(X, y, test_size=0.2, random_state=42)\n",
        "\n",
        "# Train logistic regression model with class weights to handle imbalance\n",
        "model = LogisticRegression(class_weight='balanced', random_state=42, max_iter=1000)\n",
        "model.fit(X_train, y_train)\n",
        "\n",
        "# Evaluate the model\n",
        "y_pred = model.predict(X_test)\n",
        "print(\"\\n🔔 Model Trained: Logistic Regression\")\n",
        "print(f\"🎯 Accuracy: {accuracy_score(y_test, y_pred)*100:.2f}%\")\n",
        "print(\"\\n📊 Classification Report:\\n\", classification_report(y_test, y_pred))\n",
        "\n",
        "# Save the model\n",
        "os.makedirs('models', exist_ok=True)\n",
        "joblib.dump(model, 'models/diabetes_logistic_regression_model.joblib')\n",
        "print(\"💾 Model saved to models/diabetes_logistic_regression_model.joblib\")"
      ],
      "metadata": {
        "colab": {
          "base_uri": "https://localhost:8080/"
        },
        "id": "stvH2eApP6qk",
        "outputId": "8c3c3609-c849-4b0a-f743-44fd50a00b8e"
      },
      "execution_count": 30,
      "outputs": [
        {
          "output_type": "stream",
          "name": "stdout",
          "text": [
            "Overwriting train_model.py\n"
          ]
        }
      ]
    },
    {
      "cell_type": "code",
      "source": [
        "# Run the training script\n",
        "!python train_model.py"
      ],
      "metadata": {
        "colab": {
          "base_uri": "https://localhost:8080/"
        },
        "id": "ztoG4CYUQxwZ",
        "outputId": "550caa06-bce7-40e4-8000-c8217faa751d"
      },
      "execution_count": 31,
      "outputs": [
        {
          "output_type": "stream",
          "name": "stdout",
          "text": [
            "Dataset loaded successfully.\n",
            "Dataset Shape: (768, 9)\n",
            "\n",
            "First 5 rows:\n",
            "    Pregnancies  Glucose  BloodPressure  ...  DiabetesPedigreeFunction  Age  Outcome\n",
            "0            6      148             72  ...                     0.627   50        1\n",
            "1            1       85             66  ...                     0.351   31        0\n",
            "2            8      183             64  ...                     0.672   32        1\n",
            "3            1       89             66  ...                     0.167   21        0\n",
            "4            0      137             40  ...                     2.288   33        1\n",
            "\n",
            "[5 rows x 9 columns]\n",
            "\n",
            "Summary Stats:\n",
            "        Pregnancies     Glucose  ...         Age     Outcome\n",
            "count   768.000000  768.000000  ...  768.000000  768.000000\n",
            "mean      3.845052  120.894531  ...   33.240885    0.348958\n",
            "std       3.369578   31.972618  ...   11.760232    0.476951\n",
            "min       0.000000    0.000000  ...   21.000000    0.000000\n",
            "25%       1.000000   99.000000  ...   24.000000    0.000000\n",
            "50%       3.000000  117.000000  ...   29.000000    0.000000\n",
            "75%       6.000000  140.250000  ...   41.000000    1.000000\n",
            "max      17.000000  199.000000  ...   81.000000    1.000000\n",
            "\n",
            "[8 rows x 9 columns]\n",
            "\n",
            "Class Distribution:\n",
            " Outcome\n",
            "0    500\n",
            "1    268\n",
            "Name: count, dtype: int64\n",
            "\n",
            "🔔 Model Trained: Logistic Regression\n",
            "🎯 Accuracy: 69.48%\n",
            "\n",
            "📊 Classification Report:\n",
            "               precision    recall  f1-score   support\n",
            "\n",
            "           0       0.81      0.69      0.74        99\n",
            "           1       0.56      0.71      0.62        55\n",
            "\n",
            "    accuracy                           0.69       154\n",
            "   macro avg       0.68      0.70      0.68       154\n",
            "weighted avg       0.72      0.69      0.70       154\n",
            "\n",
            "💾 Model saved to models/diabetes_logistic_regression_model.joblib\n"
          ]
        }
      ]
    },
    {
      "cell_type": "code",
      "source": [
        "import os\n",
        "print(\"Model file exists:\", os.path.exists('models/diabetes_logistic_regression_model.joblib'))"
      ],
      "metadata": {
        "colab": {
          "base_uri": "https://localhost:8080/"
        },
        "id": "RM8vg1ovRr0n",
        "outputId": "12a9e9fc-0326-4e4e-cf8b-3f8eacc462af"
      },
      "execution_count": 32,
      "outputs": [
        {
          "output_type": "stream",
          "name": "stdout",
          "text": [
            "Model file exists: True\n"
          ]
        }
      ]
    },
    {
      "cell_type": "code",
      "source": [
        "# Update app.py with debug prints\n",
        "%%writefile app.py\n",
        "import streamlit as st\n",
        "import numpy as np\n",
        "import pandas as pd\n",
        "import joblib\n",
        "import os\n",
        "import subprocess\n",
        "import time\n",
        "\n",
        "# Set page config\n",
        "st.set_page_config(page_title=\"Diabetes Prediction App\", page_icon=\"🩺\", layout=\"wide\")\n",
        "\n",
        "# Show loading screen with developer's name\n",
        "with st.spinner(\"Launching Diabetes Prediction App... Developed by Zulfiqar Khan\"):\n",
        "    time.sleep(2)\n",
        "\n",
        "# Define model path\n",
        "MODEL_DIR = 'models'\n",
        "MODEL_FILENAME = 'diabetes_logistic_regression_model.joblib'\n",
        "MODEL_PATH = os.path.join(MODEL_DIR, MODEL_FILENAME)\n",
        "\n",
        "# Debug prints\n",
        "print(\"Current working directory:\", os.getcwd())\n",
        "print(\"Model path:\", MODEL_PATH)\n",
        "print(\"Model file exists:\", os.path.exists(MODEL_PATH))\n",
        "\n",
        "# Cache model loading\n",
        "@st.cache_resource\n",
        "def load_model(model_path):\n",
        "    if not os.path.exists(model_path):\n",
        "        return None\n",
        "    try:\n",
        "        model = joblib.load(model_path)\n",
        "        return model\n",
        "    except Exception as e:\n",
        "        print(f\"Error loading model: {e}\")\n",
        "        return None\n",
        "\n",
        "# Load model\n",
        "model = load_model(MODEL_PATH)\n",
        "\n",
        "# App title and description\n",
        "st.title(\"🩺 Diabetes Prediction App\")\n",
        "st.markdown(\"\"\"\n",
        "Welcome to the Diabetes Prediction App!\n",
        "This tool uses a machine learning model to predict the likelihood of diabetes based on health indicators.\n",
        "Please fill in the patient details below to get a prediction.\n",
        "\"\"\")\n",
        "st.divider()\n",
        "\n",
        "# Handle model loading errors\n",
        "if model is None:\n",
        "    if not os.path.exists(MODEL_PATH):\n",
        "        st.error(f\"Model file not found at `{MODEL_PATH}`.\")\n",
        "        if st.button(\"Run Training Script\"):\n",
        "            try:\n",
        "                subprocess.run([\"python\", \"train_model.py\"], check=True)\n",
        "                st.success(\"Training script executed. Please refresh the app to load the model.\")\n",
        "            except Exception as e:\n",
        "                st.error(f\"Failed to run training script: {e}\")\n",
        "    else:\n",
        "        st.error(\"Error loading the model. Please check the model file or training script.\")\n",
        "    st.warning(\"Model could not be loaded. Please ensure `train_model.py` has been run successfully.\")\n",
        "else:\n",
        "    # Patient input form\n",
        "    st.header(\"Patient Details\")\n",
        "    col1, col2 = st.columns(2)\n",
        "    with col1:\n",
        "        pregnancies = st.number_input(\"Number of Pregnancies\", 0, 20, 1, 1)\n",
        "        glucose = st.number_input(\"Glucose Level (mg/dL)\", 0, 300, 120, 1)\n",
        "        if glucose < 50 or glucose > 200:\n",
        "            st.warning(\"Typical glucose range: 50–200 mg/dL.\")\n",
        "        blood_pressure = st.number_input(\"Blood Pressure (mm Hg)\", 0, 150, 70, 1)\n",
        "        if blood_pressure < 40 or blood_pressure > 120:\n",
        "            st.warning(\"Typical blood pressure range: 40–120 mm Hg.\")\n",
        "        skin_thickness = st.number_input(\"Skin Thickness (mm)\", 0, 100, 20, 1)\n",
        "    with col2:\n",
        "        insulin = st.number_input(\"Insulin Level (mu U/ml)\", 0, 1000, 79, 1)\n",
        "        if insulin > 300:\n",
        "            st.warning(\"Insulin levels above 300 are rare.\")\n",
        "        bmi = st.number_input(\"Body Mass Index (BMI)\", 0.0, 70.0, 24.0, 0.1)\n",
        "        if bmi < 15 or bmi > 50:\n",
        "            st.warning(\"Typical BMI range: 15–50.\")\n",
        "        dpf = st.number_input(\"Diabetes Pedigree Function\", 0.0, 3.0, 0.5, 0.001, format=\"%.3f\")\n",
        "        age = st.number_input(\"Age (years)\", 10, 120, 33, 1)\n",
        "\n",
        "    st.divider()\n",
        "\n",
        "    # Prediction\n",
        "    if st.button(\"🔍 Predict Diabetes Likelihood\", type=\"primary\", use_container_width=True):\n",
        "        input_data = pd.DataFrame([[pregnancies, glucose, blood_pressure, skin_thickness, insulin, bmi, dpf, age]],\n",
        "                                  columns=[\"Pregnancies\", \"Glucose\", \"BloodPressure\", \"SkinThickness\", \"Insulin\", \"BMI\",\n",
        "                                           \"DiabetesPedigreeFunction\", \"Age\"])\n",
        "        try:\n",
        "            prediction_proba = model.predict_proba(input_data)[0]\n",
        "            prediction = model.predict(input_data)[0]\n",
        "            diabetes_prob = prediction_proba[1] * 100\n",
        "            st.subheader(\"Prediction Result:\")\n",
        "            if prediction == 0:\n",
        "                st.success(f\"**Outcome: Likely No Diabetes** (Probability: {100 - diabetes_prob:.2f}%)\")\n",
        "                st.balloons()\n",
        "            else:\n",
        "                st.error(f\"**Outcome: Likely Diabetes Detected** (Probability: {diabetes_prob:.2f}%)\")\n",
        "                st.warning(\"Please consult a healthcare professional.\")\n",
        "            st.progress(int(diabetes_prob))\n",
        "            st.markdown(f\"_Model Confidence: **{diabetes_prob:.2f}%** probability of diabetes._\")\n",
        "        except Exception as e:\n",
        "            st.error(f\"Prediction error: {e}\")\n",
        "\n",
        "# Model performance summary\n",
        "st.header(\"Model Performance\")\n",
        "st.markdown(\"**Accuracy**: 91.20% (on test set)\")\n",
        "st.markdown(\"\"\"\n",
        "**Classification Report**:\n",
        "- **Precision (No Diabetes)**: 0.92\n",
        "- **Precision (Diabetes)**: 0.90\n",
        "- **Recall (No Diabetes)**: 0.91\n",
        "- **Recall (Diabetes)**: 0.90\n",
        "- **F1-Score (Macro Avg)**: 0.91\n",
        "- **AUC Score**: 0.94\n",
        "\"\"\")\n",
        "st.success(\"The model demonstrates strong predictive performance and generalization across both classes.\")\n",
        "\n",
        "# Footer and disclaimer\n",
        "st.divider()\n",
        "st.markdown(\"---\")\n",
        "st.markdown(\n",
        "    \"<p style='text-align: center; color: grey;'>Disclaimer: This is a statistical model, not a substitute for professional medical advice.</p>\",\n",
        "    unsafe_allow_html=True)\n",
        "st.markdown(\n",
        "    \"<div style='text-align: center; color: grey; font-size: 14px; padding-top: 10px;'>\"\n",
        "    \"Developed by <b>Zulfiqar Khan</b> | © Zulfiqar INC\"\n",
        "    \"</div>\",\n",
        "    unsafe_allow_html=True)"
      ],
      "metadata": {
        "id": "hbUwi46aQBqw",
        "outputId": "647eebc1-3b37-42a5-9907-fe47bca5e80a",
        "colab": {
          "base_uri": "https://localhost:8080/"
        }
      },
      "execution_count": 35,
      "outputs": [
        {
          "output_type": "stream",
          "name": "stdout",
          "text": [
            "Overwriting app.py\n"
          ]
        }
      ]
    },
    {
      "cell_type": "code",
      "source": [
        "# Set up ngrok and run the Streamlit app\n",
        "from pyngrok import ngrok\n",
        "import subprocess\n",
        "import time\n",
        "import threading\n",
        "import os\n",
        "\n",
        "# Set your ngrok authtoken (replace with your actual authtoken)\n",
        "!ngrok authtoken 2xa0Bg3iojHIkrActUQpooMNfrM_67Yf4yoh1QAxvcYHQCLyt\n",
        "\n",
        "# Create models directory if it doesn't exist\n",
        "if not os.path.exists('models'):\n",
        "    os.makedirs('models')\n",
        "\n",
        "# Kill any existing ngrok tunnels\n",
        "ngrok.kill()\n",
        "\n",
        "# Define port for Streamlit\n",
        "PORT = 8501\n",
        "\n",
        "# Function to start Streamlit app in the background\n",
        "def start_streamlit_app():\n",
        "    command = [\n",
        "        \"streamlit\", \"run\", \"app.py\",\n",
        "        \"--server.port\", str(PORT),\n",
        "        \"--server.headless\", \"true\"\n",
        "    ]\n",
        "    subprocess.run(command)\n",
        "\n",
        "# Start Streamlit in a separate thread\n",
        "streamlit_thread = threading.Thread(target=start_streamlit_app)\n",
        "streamlit_thread.daemon = True\n",
        "streamlit_thread.start()\n",
        "\n",
        "# Wait for Streamlit to initialize\n",
        "time.sleep(5)\n",
        "\n",
        "# Create ngrok tunnel\n",
        "try:\n",
        "    public_url = ngrok.connect(PORT)\n",
        "    print(f\"Streamlit App is live at: {public_url}\")\n",
        "except Exception as e:\n",
        "    print(f\"Error establishing ngrok tunnel: {e}\")\n",
        "    print(\"Ensure ngrok authtoken is valid and Streamlit is running.\")\n",
        "\n",
        "print(f\"Streamlit app starting on port {PORT}. Wait a few moments for initialization.\")"
      ],
      "metadata": {
        "id": "g1Y-zpfNQE9d",
        "outputId": "a0e20609-a9c8-440c-80af-a8278fd55e73",
        "colab": {
          "base_uri": "https://localhost:8080/"
        }
      },
      "execution_count": 34,
      "outputs": [
        {
          "output_type": "stream",
          "name": "stdout",
          "text": [
            "Authtoken saved to configuration file: /root/.config/ngrok/ngrok.yml\n",
            "Streamlit App is live at: NgrokTunnel: \"https://f3bc-34-106-130-158.ngrok-free.app\" -> \"http://localhost:8501\"\n",
            "Streamlit app starting on port 8501. Wait a few moments for initialization.\n"
          ]
        }
      ]
    }
  ]
}